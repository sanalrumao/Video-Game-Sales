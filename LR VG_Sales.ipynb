{
 "cells": [
  {
   "cell_type": "markdown",
   "id": "ef36826f-a3bd-49bb-bbea-a69887f48983",
   "metadata": {},
   "source": [
    "# Video Game Sales  Analysis Using Linear Regression"
   ]
  },
  {
   "cell_type": "markdown",
   "id": "2304fe3d-3759-4e27-8bdb-4496462f7fdb",
   "metadata": {},
   "source": [
    "The model aims to build a **Linear Regression model** to predict a **Sales of Video Game** based on various Platforms and Sales. The dataset undergoes comprehensive preprocessing, including handling missing values, encoding categorical variables. The model’s performance is evaluated using metrics such as **RMSE, MAE, and R²**. To optimize results, **Ridge, Lasso, ElasticNet** is used for fine-tuning hyperparameters. The final model effectively predicts Sales."
   ]
  },
  {
   "cell_type": "markdown",
   "id": "1479d688-1427-4c7f-a46b-0f2a01eec69b",
   "metadata": {},
   "source": [
    "## **Step 1 : Import Libraries and Load Data**\n",
    "\n",
    "* **pandas**: Used for data manipulation and analysis, offering powerful data structures like DataFrames to handle and process structured data efficiently.\n",
    "* **numpy**: Provides support for numerical operations on large multi-dimensional arrays and matrices, along with a collection of mathematical functions to operate on these arrays.\n",
    "* **matplotlib.pyplot**: Used for creating static, interactive, and animated visualizations in Python, enabling plotting of various graphs such as line charts, scatter plots, and histograms.\n",
    "* **seaborn**: A data visualization library built on matplotlib, providing a high-level interface to create statistical graphics such as heatmaps, pair plots, and box plots.\n",
    "* **sklearn.model_selection**:\n",
    "    * **train_test_split**: Splits the dataset into training and testing sets, ensuring an appropriate balance for model training and validation.\n",
    "     * **cross_val_score**: Evaluates model performance through cross-validation by splitting the data into multiple folds and computing average accuracy.\n",
    "* **sklearn.preprocessing**:\n",
    "  * **StandardScaler**: Standardizes features by removing the mean and scaling to unit variance, ensuring all features contribute equally to the model.\n",
    "  * **OneHotEncoder**: Converts categorical variables into a binary matrix (dummy variables), enabling models to interpret non-numerical features.\n",
    "  *  **LabelEncoder**: convert categorical data into numerical values, making it suitable for machine learning models. It assigns a unique integer to each category.\n",
    "\n",
    "* **sklearn.linear_model**:\n",
    "  * **LinearRegression**: Builds a linear model by fitting a straight line to the data, predicting the target variable based on input features.\n",
    "  * **Ridge**: A variation of linear regression that introduces L2 regularization, which reduces model complexity by penalizing large coefficients.\n",
    "  * **Lasso**: Applies L1 regularization to linear regression, effectively performing feature selection by shrinking less important feature coefficients to zero.\n",
    "  *  **ElasticNet**: It is a type of linear regression that combines Lasso (L1) and Ridge (L2) regularization to improve model performance and prevent overfitting. It is useful when working with high-dimensional data or when predictors are highly correlated.\n",
    "    \n",
    "* **sklearn.metrics**:\n",
    "  * **mean_squared_error (MSE)**: Measures the average squared difference between actual and predicted values, penalizing large errors.\n",
    "  * **mean_absolute_error (MAE)**: Computes the average absolute difference between actual and predicted values, giving equal weight to all errors.\n",
    "  * **r2_score (R²)**: Indicates how well the model fits the data, representing the proportion of variance explained by the model.\n"
   ]
  },
  {
   "cell_type": "code",
   "execution_count": 368,
   "id": "56d02942-3407-44c5-9995-b40032cfdc20",
   "metadata": {},
   "outputs": [],
   "source": [
    "import pandas as pd\n",
    "import numpy as np\n",
    "import matplotlib.pyplot as plt\n",
    "import seaborn as sns\n",
    "from sklearn.linear_model import LinearRegression\n",
    "from sklearn.model_selection import train_test_split\n",
    "from sklearn.preprocessing import OneHotEncoder, StandardScaler,LabelEncoder\n",
    "from sklearn.metrics import r2_score, mean_absolute_error,mean_squared_error\n",
    "from sklearn.model_selection import cross_val_score\n",
    "from sklearn.linear_model import Ridge, Lasso, ElasticNet \n",
    "import warnings \n",
    "warnings.filterwarnings('ignore')"
   ]
  },
  {
   "cell_type": "code",
   "execution_count": null,
   "id": "2bf5ad73-1506-4302-8796-ca6b2ee2895c",
   "metadata": {},
   "outputs": [],
   "source": [
    "df= pd.read_excel(r\"C:\\Users\\Sanal Rumao\\Downloads\\vgsales (1).xlsx\")"
   ]
  },
  {
   "cell_type": "code",
   "execution_count": null,
   "id": "34e25ad1-b3b0-4051-9c97-caaf8bf2c818",
   "metadata": {},
   "outputs": [],
   "source": [
    "df"
   ]
  },
  {
   "cell_type": "code",
   "execution_count": null,
   "id": "845e669d-9768-4b83-8ad8-cba28d008a4f",
   "metadata": {},
   "outputs": [],
   "source": [
    "df['Publisher'].nunique()"
   ]
  },
  {
   "cell_type": "code",
   "execution_count": null,
   "id": "c91761b2-fb9a-417c-8955-19e4c26fecb2",
   "metadata": {},
   "outputs": [],
   "source": [
    "df.head(10)"
   ]
  },
  {
   "cell_type": "code",
   "execution_count": null,
   "id": "80689227-7ea7-45d3-a538-b3891f671abc",
   "metadata": {},
   "outputs": [],
   "source": [
    "df.tail()"
   ]
  },
  {
   "cell_type": "markdown",
   "id": "c19ed29f-0f23-4677-88d3-9cceb66a4c15",
   "metadata": {},
   "source": [
    "## **Step 2 : Exploratory Data Analysis**"
   ]
  },
  {
   "cell_type": "code",
   "execution_count": null,
   "id": "4669e880-a809-47c1-8a1c-0bcd6b537997",
   "metadata": {},
   "outputs": [],
   "source": [
    "df.describe()"
   ]
  },
  {
   "cell_type": "code",
   "execution_count": null,
   "id": "1007fbe8-18c3-4407-89e8-41c6d74cca46",
   "metadata": {},
   "outputs": [],
   "source": [
    "df.info()"
   ]
  },
  {
   "cell_type": "code",
   "execution_count": null,
   "id": "5c61eda0-d394-4751-a86c-cab6eeeb48b4",
   "metadata": {},
   "outputs": [],
   "source": [
    "df.isnull().any()"
   ]
  },
  {
   "cell_type": "code",
   "execution_count": null,
   "id": "4ec0d131-00cf-44ee-ba13-7438aee2bf2a",
   "metadata": {},
   "outputs": [],
   "source": [
    "df.isnull().sum()"
   ]
  },
  {
   "cell_type": "code",
   "execution_count": null,
   "id": "5d79ccf4-0410-45de-b770-9f226d780936",
   "metadata": {},
   "outputs": [],
   "source": [
    "sns.heatmap(df.isnull(),cmap='Spectral')"
   ]
  },
  {
   "cell_type": "markdown",
   "id": "aa331336-5423-448e-bd81-a4007aebe684",
   "metadata": {},
   "source": [
    "## **Step 3 : Data Preprocessing**"
   ]
  },
  {
   "cell_type": "markdown",
   "id": "5ddf232e-18ba-4489-bf77-3586ce398177",
   "metadata": {},
   "source": [
    "#### Drop columns with too many missing values"
   ]
  },
  {
   "cell_type": "code",
   "execution_count": null,
   "id": "d8efdabb-1a01-4beb-afe7-6f23d2f8d9f3",
   "metadata": {},
   "outputs": [],
   "source": [
    "df = df.dropna()"
   ]
  },
  {
   "cell_type": "code",
   "execution_count": null,
   "id": "bf7d8643-abb7-4a30-8e1a-c4f2d204f2ae",
   "metadata": {},
   "outputs": [],
   "source": [
    "df.isnull().sum()"
   ]
  },
  {
   "cell_type": "code",
   "execution_count": null,
   "id": "0b125cb2-ece2-4a0c-a2de-582cf9ac1b33",
   "metadata": {},
   "outputs": [],
   "source": [
    "df.count()"
   ]
  },
  {
   "cell_type": "code",
   "execution_count": null,
   "id": "924add23-31ac-4166-baf1-4056df1771b3",
   "metadata": {},
   "outputs": [],
   "source": [
    "df.shape"
   ]
  },
  {
   "cell_type": "code",
   "execution_count": null,
   "id": "7a991508-1df7-4253-9319-fa453bf79c0b",
   "metadata": {},
   "outputs": [],
   "source": [
    "# Sum of sales per region  \n",
    "sales_regions = df[['NA_Sales', 'EU_Sales', 'JP_Sales', 'Other_Sales']].sum()  \n",
    "\n",
    "plt.figure(figsize=(8, 8))  \n",
    "plt.pie(sales_regions, labels=sales_regions.index, autopct='%1.1f%%', colors=['blue', 'red', 'green', 'purple'], startangle=140)  \n",
    "plt.title(\"Sales Distribution by Region\")  \n",
    "plt.show()  "
   ]
  },
  {
   "cell_type": "code",
   "execution_count": null,
   "id": "22738a1a-fdb8-4706-a7c5-339e76361df6",
   "metadata": {},
   "outputs": [],
   "source": [
    "df.columns"
   ]
  },
  {
   "cell_type": "code",
   "execution_count": null,
   "id": "1aba2e46-fc1c-4464-b76a-878b8e5ed7fa",
   "metadata": {},
   "outputs": [],
   "source": [
    "df[\"Platform\"].value_counts()"
   ]
  },
  {
   "cell_type": "markdown",
   "id": "c991ffff-4ff9-4242-b61c-2f268c63bfd4",
   "metadata": {},
   "source": [
    "### Bar Chart - Platform-wise Sales"
   ]
  },
  {
   "cell_type": "code",
   "execution_count": null,
   "id": "4d66eb5c-440b-472d-b4e1-6205d9196f37",
   "metadata": {},
   "outputs": [],
   "source": [
    "platform_sales = df.groupby('Platform')['Global_Sales'].sum().sort_values(ascending=False)[:10]  # Top 10 platforms\n",
    "plt.figure(figsize=(12, 6))\n",
    "sns.barplot(x=platform_sales.values, y=platform_sales.index, palette=\"coolwarm\")\n",
    "plt.title(\"Top 10 Platforms by Global Sales\")\n",
    "plt.xlabel(\"Total Sales (millions)\")\n",
    "plt.ylabel(\"Platform\")\n",
    "plt.show()"
   ]
  },
  {
   "cell_type": "markdown",
   "id": "7cad715d-753b-4109-999c-4d2909012e0e",
   "metadata": {},
   "source": [
    "### Sales Distribution by Genre – Pie Chart"
   ]
  },
  {
   "cell_type": "code",
   "execution_count": null,
   "id": "40f7c2ad-b08c-4589-9e2f-5b70151f6154",
   "metadata": {},
   "outputs": [],
   "source": [
    "genre_sales = df.groupby('Genre')['Global_Sales'].sum().sort_values(ascending=False)  \n",
    "\n",
    "plt.figure(figsize=(8, 8))  \n",
    "plt.pie(genre_sales, labels=genre_sales.index, autopct='%1.1f%%', colors=sns.color_palette(\"coolwarm\", len(genre_sales)), startangle=140)  \n",
    "plt.title(\"Sales Distribution by Genre\")  \n",
    "plt.show()"
   ]
  },
  {
   "cell_type": "markdown",
   "id": "7a8b7354-a4a1-4476-891a-465212c0972b",
   "metadata": {},
   "source": [
    "### Sales Distribution by Publisher (Top 10 Publishers) – Bar Chart"
   ]
  },
  {
   "cell_type": "code",
   "execution_count": null,
   "id": "ece781d1-36a0-4cd9-b6b7-37fdc10168d2",
   "metadata": {},
   "outputs": [],
   "source": [
    "publisher_sales = df.groupby('Publisher')['Global_Sales'].sum().sort_values(ascending=False)[:10]  \n",
    "\n",
    "plt.figure(figsize=(8, 4))  \n",
    "sns.barplot(x=publisher_sales.values, y=publisher_sales.index, palette=\"magma\")  \n",
    "plt.title(\"Top 10 Publishers by Global Sales\")  \n",
    "plt.xlabel(\"Total Sales (Millions)\")  \n",
    "plt.ylabel(\"Publisher\")  \n",
    "plt.show()  "
   ]
  },
  {
   "cell_type": "code",
   "execution_count": null,
   "id": "018e135d-7755-4063-bd56-b7f032e90e80",
   "metadata": {},
   "outputs": [],
   "source": [
    "categorical_cols = ['Platform','Genre',\t'Publisher']\n"
   ]
  },
  {
   "cell_type": "code",
   "execution_count": null,
   "id": "2ab07265-1800-47ed-af52-1b676e81a0e5",
   "metadata": {},
   "outputs": [],
   "source": [
    "print(df[categorical_cols].dtypes)"
   ]
  },
  {
   "cell_type": "markdown",
   "id": "b9c0af0c-8f44-4745-b409-d8cb71b231a7",
   "metadata": {},
   "source": [
    "**Define column transformer to scale and encode**"
   ]
  },
  {
   "cell_type": "code",
   "execution_count": null,
   "id": "97dfd20d-e159-4597-afad-17d62e418a8a",
   "metadata": {},
   "outputs": [],
   "source": [
    "label_encoder=LabelEncoder()\n",
    "categorical_columns = ['Platform','Genre','Publisher']\n",
    "for col in categorical_columns:\n",
    "    df[col] =df[col].astype(str)\n",
    "    df[col] = label_encoder.fit_transform(df[col])"
   ]
  },
  {
   "cell_type": "code",
   "execution_count": null,
   "id": "73202c8e-00ae-4826-bc3a-cdefdc1adce0",
   "metadata": {},
   "outputs": [],
   "source": [
    "type(categorical_cols)"
   ]
  },
  {
   "cell_type": "markdown",
   "id": "b7f7eeb5-3735-431f-8d23-e9f350682429",
   "metadata": {},
   "source": [
    "### Droped columns not needed"
   ]
  },
  {
   "cell_type": "code",
   "execution_count": null,
   "id": "5931988c-f15e-43a1-a834-aa08412a2041",
   "metadata": {},
   "outputs": [],
   "source": [
    "df=df.drop(columns =['Rank','Name','Year']) "
   ]
  },
  {
   "cell_type": "markdown",
   "id": "db7fa34d-a511-4c53-97f6-b1ebbc17c9ed",
   "metadata": {},
   "source": [
    "## **Define features (X) and target (y)**"
   ]
  },
  {
   "cell_type": "code",
   "execution_count": null,
   "id": "0bc02734-06be-4dad-8aa2-efc44080ef4e",
   "metadata": {},
   "outputs": [],
   "source": [
    "x = df.drop(columns =['Global_Sales'])\n",
    "y = df['Global_Sales']"
   ]
  },
  {
   "cell_type": "code",
   "execution_count": null,
   "id": "37ec4df2-7d41-40b7-ab59-5af616aabe65",
   "metadata": {},
   "outputs": [],
   "source": [
    "x"
   ]
  },
  {
   "cell_type": "markdown",
   "id": "830070db-e2a6-4b19-9b86-d49212d87b3d",
   "metadata": {},
   "source": [
    "## **Step 4: Model Building**"
   ]
  },
  {
   "cell_type": "code",
   "execution_count": null,
   "id": "6e81bdc2-1ce5-4925-af49-64b438f3783e",
   "metadata": {},
   "outputs": [],
   "source": [
    "x_train,x_test,y_train,y_test = train_test_split(x,y,train_size=0.8,random_state=0)"
   ]
  },
  {
   "cell_type": "markdown",
   "id": "273dda08-495e-42ac-843f-5cb01930f1dd",
   "metadata": {},
   "source": [
    "**Training the model**"
   ]
  },
  {
   "cell_type": "code",
   "execution_count": null,
   "id": "659f1106-f1e4-469c-9aea-62f47aee0564",
   "metadata": {},
   "outputs": [],
   "source": [
    "LR = LinearRegression()"
   ]
  },
  {
   "cell_type": "code",
   "execution_count": null,
   "id": "a3584682-a184-42ef-a133-33164aa4c728",
   "metadata": {},
   "outputs": [],
   "source": [
    "LR"
   ]
  },
  {
   "cell_type": "code",
   "execution_count": null,
   "id": "7c1b5e9f-4115-4761-a688-d78925d04d4f",
   "metadata": {},
   "outputs": [],
   "source": [
    "LR.fit(x_train, y_train)"
   ]
  },
  {
   "cell_type": "code",
   "execution_count": null,
   "id": "4f8ba1c0-6e91-4673-b1e1-d716238debe2",
   "metadata": {},
   "outputs": [],
   "source": [
    "y_pred=LR.predict(x_test)"
   ]
  },
  {
   "cell_type": "code",
   "execution_count": null,
   "id": "ce9aa359-aba6-4c0d-b4da-0cc8254872b5",
   "metadata": {},
   "outputs": [],
   "source": [
    "mae = mean_absolute_error(y_test,y_pred)\n",
    "mae"
   ]
  },
  {
   "cell_type": "code",
   "execution_count": null,
   "id": "1222e767-7c85-4f56-acfe-68e3a3289a33",
   "metadata": {},
   "outputs": [],
   "source": [
    "mse= mean_squared_error(y_test,y_pred)\n",
    "mse"
   ]
  },
  {
   "cell_type": "code",
   "execution_count": null,
   "id": "96c7a759-b00c-439f-810b-eab199f8690a",
   "metadata": {},
   "outputs": [],
   "source": [
    "rmse = np.sqrt(mean_squared_error(y_test,y_pred))\n",
    "rmse"
   ]
  },
  {
   "cell_type": "code",
   "execution_count": null,
   "id": "be415242-f72d-4414-91b3-8ff3b449fa19",
   "metadata": {},
   "outputs": [],
   "source": [
    "r2=r2_score(y_test,y_pred)\n",
    "r2"
   ]
  },
  {
   "cell_type": "markdown",
   "id": "8799cddd-a97b-446f-b925-911c2f3ce436",
   "metadata": {},
   "source": [
    "## **Step 5: Hyperparameter Tuning**"
   ]
  },
  {
   "cell_type": "code",
   "execution_count": null,
   "id": "c8ced870-7d02-43fc-8eb0-365f1286f4a3",
   "metadata": {},
   "outputs": [],
   "source": [
    "lr_model = LinearRegression()\n",
    "lr_score = cross_val_score(lr_model, x_train, y_train, cv=5)"
   ]
  },
  {
   "cell_type": "code",
   "execution_count": null,
   "id": "b758da93-0d9f-4a9a-8b39-42e23b8eb6bd",
   "metadata": {},
   "outputs": [],
   "source": [
    "ridge_model = Ridge(alpha=1.0)\n",
    "ridge_score = cross_val_score(ridge_model, x_train, y_train, cv=5)"
   ]
  },
  {
   "cell_type": "code",
   "execution_count": null,
   "id": "597c5764-8b43-411c-8aab-e27c317f823b",
   "metadata": {},
   "outputs": [],
   "source": [
    "\n",
    "lasso_model = Lasso(alpha=1.0)\n",
    "lasso_score = cross_val_score(lasso_model, x_train, y_train, cv=5)"
   ]
  },
  {
   "cell_type": "markdown",
   "id": "465a27fe-be95-4dcd-9638-126a0332cbd2",
   "metadata": {},
   "source": [
    "# **Step 6 : Model Evaluation**"
   ]
  },
  {
   "cell_type": "code",
   "execution_count": null,
   "id": "b80feb87-b6fd-45ae-9d5e-174ff625049c",
   "metadata": {},
   "outputs": [],
   "source": [
    "lr_model.fit(x_train, y_train)\n",
    "lr_predictions = lr_model.predict(x_test)\n",
    "lr_mse = mean_squared_error(y_test, lr_predictions)\n",
    "lr_mse\n",
    "lr_r2 = r2_score(y_test, lr_predictions)\n",
    "lr_r2*100"
   ]
  },
  {
   "cell_type": "code",
   "execution_count": null,
   "id": "cf5a2c26-c170-4a1f-b8fe-87438f678412",
   "metadata": {},
   "outputs": [],
   "source": [
    "ridge_model.fit(x_train, y_train)\n",
    "ridge_predictions = ridge_model.predict(x_test)\n",
    "ridge_r2 = r2_score(y_test, ridge_predictions)\n",
    "ridge_r2*100"
   ]
  },
  {
   "cell_type": "code",
   "execution_count": null,
   "id": "1a438a1d-060a-4b34-abc4-528a66d716e9",
   "metadata": {},
   "outputs": [],
   "source": [
    "lasso_model.fit(x_train, y_train)\n",
    "lasso_predictions = lasso_model.predict(x_test)\n",
    "lasso_r2 = r2_score(y_test, lasso_predictions)\n",
    "lasso_r2*100"
   ]
  },
  {
   "cell_type": "code",
   "execution_count": null,
   "id": "59f9e004-9298-4853-b853-57a839357d53",
   "metadata": {},
   "outputs": [],
   "source": [
    "ElasticNet_model = ElasticNet(alpha=1.0)\n",
    "ElasticNet_score = cross_val_score(ElasticNet_model , x_train, y_train, cv=5)\n"
   ]
  },
  {
   "cell_type": "code",
   "execution_count": null,
   "id": "21eabec1-e8bb-463f-a32d-e9dfaf5b41c0",
   "metadata": {},
   "outputs": [],
   "source": [
    "ElasticNet_model.fit(x_train, y_train)\n",
    "ElasticNet_predictions = ElasticNet_model.predict(x_test)\n",
    "ElasticNet_r2 = r2_score(y_test, ElasticNet_predictions)\n",
    "ElasticNet_r2*100"
   ]
  },
  {
   "cell_type": "code",
   "execution_count": null,
   "id": "1b691fee-505d-4adb-bec3-a0f15ea47ed8",
   "metadata": {},
   "outputs": [],
   "source": []
  },
  {
   "cell_type": "code",
   "execution_count": null,
   "id": "96b28205-8052-4f44-bcc2-47a27dfe4a26",
   "metadata": {},
   "outputs": [],
   "source": []
  },
  {
   "cell_type": "code",
   "execution_count": null,
   "id": "8939451b-129c-46ff-930d-0877837d751d",
   "metadata": {},
   "outputs": [],
   "source": []
  },
  {
   "cell_type": "code",
   "execution_count": null,
   "id": "0b1a06d9-698a-4b37-880e-f3507d992800",
   "metadata": {},
   "outputs": [],
   "source": []
  },
  {
   "cell_type": "code",
   "execution_count": null,
   "id": "d58505e6-34e8-44d5-a89f-574953125981",
   "metadata": {},
   "outputs": [],
   "source": []
  },
  {
   "cell_type": "code",
   "execution_count": null,
   "id": "8f9b7dc8-9366-45a6-834c-674a0753a4be",
   "metadata": {},
   "outputs": [],
   "source": []
  },
  {
   "cell_type": "code",
   "execution_count": null,
   "id": "7b04da09-1407-43c5-b933-37323a42089e",
   "metadata": {},
   "outputs": [],
   "source": [
    "\n"
   ]
  }
 ],
 "metadata": {
  "kernelspec": {
   "display_name": "Python 3 (ipykernel)",
   "language": "python",
   "name": "python3"
  },
  "language_info": {
   "codemirror_mode": {
    "name": "ipython",
    "version": 3
   },
   "file_extension": ".py",
   "mimetype": "text/x-python",
   "name": "python",
   "nbconvert_exporter": "python",
   "pygments_lexer": "ipython3",
   "version": "3.12.7"
  }
 },
 "nbformat": 4,
 "nbformat_minor": 5
}
